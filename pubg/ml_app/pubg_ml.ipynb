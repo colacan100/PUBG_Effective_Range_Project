{
 "cells": [
  {
   "cell_type": "code",
   "execution_count": 313,
   "metadata": {},
   "outputs": [],
   "source": [
    "import sqlite3\n",
    "import pandas as pd\n",
    "from surprise import SVD, accuracy\n",
    "from surprise import Reader, Dataset\n",
    "from surprise import accuracy\n",
    "from surprise.model_selection import train_test_split\n",
    "connection = sqlite3.connect('pubg_result.db')"
   ]
  },
  {
   "cell_type": "code",
   "execution_count": 314,
   "metadata": {},
   "outputs": [],
   "source": [
    "# 에란겔 모델\n",
    "data = pd.read_sql(\"SELECT * FROM PUBG;\",connection)\n",
    "data_erangel = data[data['map'] == 'Erangel (Remastered)']\n",
    "data_erangel = data_erangel[data_erangel['rank'] != 'None']\n",
    "data_to_erangel = data_erangel[['zone','damage_causer_name','rank']]\n",
    "erangel_rating = data_erangel.pivot_table('rank', index = '_id', columns='damage_causer_name').fillna(0)"
   ]
  },
  {
   "cell_type": "code",
   "execution_count": 315,
   "metadata": {},
   "outputs": [],
   "source": [
    "no_sup_item_ids = [] # 보급제외 무기\n",
    "sup_item_ids = [] # 보급포함 무기\n",
    "for i in erangel_rating.columns:\n",
    "    no_sup_item_ids.append(i)\n",
    "no_sup_item_ids.remove('WeapGroza_C')\n",
    "no_sup_item_ids.remove('WeapMk14_C')\n",
    "no_sup_item_ids.remove('WeapAUG_C')\n",
    "no_sup_item_ids.remove('WeapM249_C')\n",
    "no_sup_item_ids.remove('WeapAWM_C')\n",
    "for i in erangel_rating.columns:\n",
    "    sup_item_ids.append(i)"
   ]
  },
  {
   "cell_type": "code",
   "execution_count": 316,
   "metadata": {},
   "outputs": [
    {
     "data": {
      "text/plain": [
       "<surprise.prediction_algorithms.matrix_factorization.SVD at 0x1a3ffd89cc0>"
      ]
     },
     "execution_count": 316,
     "metadata": {},
     "output_type": "execute_result"
    }
   ],
   "source": [
    "reader = Reader(rating_scale= (1, 95))\n",
    "data = Dataset.load_from_df(df=data_to_erangel, reader=reader)\n",
    "train, test = train_test_split(data, test_size=.25)\n",
    "model_erangel = SVD(n_factors=100, n_epochs=20, random_state=123)\n",
    "model_erangel.fit(train) # model 생성"
   ]
  },
  {
   "cell_type": "code",
   "execution_count": 317,
   "metadata": {},
   "outputs": [],
   "source": [
    "def for_recommend(ml_zone,ml_weapons,model):\n",
    "    zone = ml_zone # 선택지역\n",
    "    actual_rating = 0\n",
    "    a = 95\n",
    "    for ml_weapon in ml_weapons :\n",
    "        result = model.predict(zone, ml_weapon, actual_rating)\n",
    "        if result.est < a:\n",
    "            weapon_result = result\n",
    "            a = result.est\n",
    "    return weapon_result"
   ]
  },
  {
   "cell_type": "code",
   "execution_count": 318,
   "metadata": {},
   "outputs": [
    {
     "data": {
      "text/plain": [
       "'WeapP90_C'"
      ]
     },
     "execution_count": 318,
     "metadata": {},
     "output_type": "execute_result"
    }
   ],
   "source": [
    "recommend = for_recommend('school',no_sup_item_ids,model_erangel)\n",
    "recommend.iid"
   ]
  },
  {
   "cell_type": "code",
   "execution_count": 319,
   "metadata": {},
   "outputs": [
    {
     "name": "stdout",
     "output_type": "stream",
     "text": [
      "MAE:  12.8121\n",
      "RMSE: 15.3939\n"
     ]
    },
    {
     "data": {
      "text/plain": [
       "15.393867814187223"
      ]
     },
     "execution_count": 319,
     "metadata": {},
     "output_type": "execute_result"
    }
   ],
   "source": [
    "predict_erangel = model_erangel.test(test)\n",
    "accuracy.mae(predict_erangel)\n",
    "accuracy.rmse(predict_erangel)"
   ]
  },
  {
   "cell_type": "code",
   "execution_count": 320,
   "metadata": {},
   "outputs": [],
   "source": [
    "# 미라마 모델\n",
    "data = pd.read_sql(\"SELECT * FROM PUBG;\",connection)\n",
    "data_miramar = data[data['map'] == 'Miramar']\n",
    "data_miramar = data_miramar[data_miramar['rank'] != 'None']\n",
    "data_to_miramar = data_miramar[['zone','damage_causer_name','rank']]\n",
    "miramar_rating = data_miramar.pivot_table('rank', index = '_id', columns='damage_causer_name').fillna(0)"
   ]
  },
  {
   "cell_type": "code",
   "execution_count": 321,
   "metadata": {},
   "outputs": [
    {
     "data": {
      "text/plain": [
       "<surprise.prediction_algorithms.matrix_factorization.SVD at 0x1a3ffd16e00>"
      ]
     },
     "execution_count": 321,
     "metadata": {},
     "output_type": "execute_result"
    }
   ],
   "source": [
    "reader = Reader(rating_scale= (1, 95))\n",
    "data = Dataset.load_from_df(df=data_to_miramar, reader=reader)\n",
    "train, test = train_test_split(data, test_size=.25)\n",
    "model_miramar = SVD(n_factors=100, n_epochs=20, random_state=123)\n",
    "model_miramar.fit(train) # model 생성"
   ]
  },
  {
   "cell_type": "code",
   "execution_count": 322,
   "metadata": {},
   "outputs": [
    {
     "data": {
      "text/plain": [
       "'WeapP90_C'"
      ]
     },
     "execution_count": 322,
     "metadata": {},
     "output_type": "execute_result"
    }
   ],
   "source": [
    "recommend = for_recommend('pecade',no_sup_item_ids,model_miramar)\n",
    "recommend.iid"
   ]
  },
  {
   "cell_type": "code",
   "execution_count": 323,
   "metadata": {},
   "outputs": [
    {
     "name": "stdout",
     "output_type": "stream",
     "text": [
      "MAE:  11.9698\n",
      "RMSE: 14.6603\n"
     ]
    },
    {
     "data": {
      "text/plain": [
       "14.660337376374855"
      ]
     },
     "execution_count": 323,
     "metadata": {},
     "output_type": "execute_result"
    }
   ],
   "source": [
    "predict_miramar = model_miramar.test(test)\n",
    "accuracy.mae(predict_miramar)\n",
    "accuracy.rmse(predict_miramar)"
   ]
  },
  {
   "cell_type": "code",
   "execution_count": 324,
   "metadata": {},
   "outputs": [],
   "source": [
    "# 태이고 모델\n",
    "data = pd.read_sql(\"SELECT * FROM PUBG;\",connection)\n",
    "data_teigo = data[data['map'] == 'Tiger_Main']\n",
    "data_teigo = data_teigo[data_teigo['rank'] != 'None']\n",
    "data_to_teigo = data_teigo[['zone','damage_causer_name','rank']]\n",
    "teigo_rating = data_teigo.pivot_table('rank', index = '_id', columns='damage_causer_name').fillna(0)"
   ]
  },
  {
   "cell_type": "code",
   "execution_count": 325,
   "metadata": {},
   "outputs": [
    {
     "data": {
      "text/plain": [
       "<surprise.prediction_algorithms.matrix_factorization.SVD at 0x1a3ffd8b550>"
      ]
     },
     "execution_count": 325,
     "metadata": {},
     "output_type": "execute_result"
    }
   ],
   "source": [
    "reader = Reader(rating_scale= (1, 95))\n",
    "data = Dataset.load_from_df(df=data_to_teigo, reader=reader)\n",
    "train, test = train_test_split(data, test_size=.25)\n",
    "model_teigo = SVD(n_factors=100, n_epochs=20, random_state=123)\n",
    "model_teigo.fit(train) # model 생성"
   ]
  },
  {
   "cell_type": "code",
   "execution_count": 326,
   "metadata": {},
   "outputs": [
    {
     "data": {
      "text/plain": [
       "'WeapMG3_C'"
      ]
     },
     "execution_count": 326,
     "metadata": {},
     "output_type": "execute_result"
    }
   ],
   "source": [
    "recommend = for_recommend('palace',no_sup_item_ids,model_teigo)\n",
    "recommend.iid"
   ]
  },
  {
   "cell_type": "code",
   "execution_count": 327,
   "metadata": {},
   "outputs": [
    {
     "name": "stdout",
     "output_type": "stream",
     "text": [
      "MAE:  13.9085\n",
      "RMSE: 16.9773\n"
     ]
    },
    {
     "data": {
      "text/plain": [
       "16.977338062962406"
      ]
     },
     "execution_count": 327,
     "metadata": {},
     "output_type": "execute_result"
    }
   ],
   "source": [
    "predict_teigo = model_teigo.test(test)\n",
    "accuracy.mae(predict_teigo)\n",
    "accuracy.rmse(predict_teigo)"
   ]
  },
  {
   "cell_type": "code",
   "execution_count": 328,
   "metadata": {},
   "outputs": [],
   "source": [
    "import pickle\n",
    "\n",
    "with open('model_erangel.pkl','wb') as pickle_file:\n",
    "    pickle.dump(model_erangel, pickle_file)\n",
    "\n",
    "with open('model_miramar.pkl','wb') as pickle_file:\n",
    "    pickle.dump(model_miramar, pickle_file)\n",
    "\n",
    "with open('model_teigo.pkl','wb') as pickle_file:\n",
    "    pickle.dump(model_teigo, pickle_file)"
   ]
  },
  {
   "cell_type": "code",
   "execution_count": 334,
   "metadata": {},
   "outputs": [
    {
     "name": "stdout",
     "output_type": "stream",
     "text": [
      "['BP_BRDM_C', 'BP_CoupeRB_C', 'BP_FireEffectController_C', 'BP_FireEffectController_JerryCan_C', 'BP_JerryCanFireDebuff_C', 'BP_MolotovFireDebuff_C', 'BP_Motorbike_04_C', 'BP_Motorbike_04_SideCar_C', 'BP_Motorbike_Solitario_C', 'Boat_PG117_C', 'Buggy_A_01_C', 'Buggy_A_02_C', 'Buggy_A_03_C', 'Dacia_A_01_v2_C', 'Dacia_A_02_v2_C', 'Dacia_A_03_v2_C', 'Dacia_A_03_v2_Esports_C', 'Dacia_A_04_v2_C', 'DroppedItemGroup', 'None', 'PlayerFemale_A_C', 'PlayerMale_A_C', 'ProjC4_C', 'ProjGrenade_C', 'ProjMolotov_C', 'Uaz_A_01_C', 'Uaz_B_01_C', 'Uaz_B_01_esports_C', 'Uaz_C_01_C', 'WeapACE32_C', 'WeapAK47_C', 'WeapAUG_C', 'WeapAWM_C', 'WeapBerreta686_C', 'WeapBerylM762_C', 'WeapBizonPP19_C', 'WeapCowbarProjectile_C', 'WeapCowbar_C', 'WeapCrossbow_1_C', 'WeapDP12_C', 'WeapDP28_C', 'WeapDesertEagle_C', 'WeapFNFal_C', 'WeapG18_C', 'WeapGroza_C', 'WeapHK416_C', 'WeapKar98k_C', 'WeapM16A4_C', 'WeapM1911_C', 'WeapM249_C', 'WeapM24_C', 'WeapM9_C', 'WeapMG3_C', 'WeapMacheteProjectile_C', 'WeapMachete_C', 'WeapMini14_C', 'WeapMk12_C', 'WeapMk14_C', 'WeapMk47Mutant_C', 'WeapMosinNagant_C', 'WeapNagantM1895_C', 'WeapP90_C', 'WeapPanProjectile_C', 'WeapPan_C', 'WeapQBZ95_C', 'WeapSCAR-L_C', 'WeapSKS_C', 'WeapSaiga12_C', 'WeapSickleProjectile_C', 'WeapSickle_C', 'WeapThompson_C', 'WeapUMP_C', 'WeapUZI_C', 'WeapVSS_C', 'WeapVector_C', 'WeapWinchester_C', 'Weapvz61Skorpion_C']\n"
     ]
    }
   ],
   "source": [
    "print(sup_item_ids)"
   ]
  },
  {
   "cell_type": "code",
   "execution_count": null,
   "metadata": {},
   "outputs": [],
   "source": []
  }
 ],
 "metadata": {
  "interpreter": {
   "hash": "18ac9e9b832b44ac32d15ad12b2c127d26bed51b4ca4f342006315fa04f4d3eb"
  },
  "kernelspec": {
   "display_name": "Python 3.10.4 ('pubg')",
   "language": "python",
   "name": "python3"
  },
  "language_info": {
   "codemirror_mode": {
    "name": "ipython",
    "version": 3
   },
   "file_extension": ".py",
   "mimetype": "text/x-python",
   "name": "python",
   "nbconvert_exporter": "python",
   "pygments_lexer": "ipython3",
   "version": "3.10.4"
  },
  "orig_nbformat": 4
 },
 "nbformat": 4,
 "nbformat_minor": 2
}
